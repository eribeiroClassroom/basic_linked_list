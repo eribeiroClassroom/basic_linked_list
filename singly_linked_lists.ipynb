{
 "cells": [
  {
   "cell_type": "markdown",
   "metadata": {},
   "source": [
    "# Singly linked lists\n",
    "\n",
    "A linked list is a linear collection of data elements, whose order is not given by their physical placement in memory. Instead, each element points to the next. The tail always points to None."
   ]
  },
  {
   "cell_type": "markdown",
   "metadata": {},
   "source": [
    "## A graphical representation of a linked list \n",
    "\n",
    "A linear sequence of connected nodes, where each node contains a value and a reference to the next node.\n",
    "\n",
    "![](https://miro.medium.com/v2/resize:fit:1100/format:webp/1*oMPns69wKhvCqxPYAhbVzA.png)"
   ]
  },
  {
   "cell_type": "markdown",
   "metadata": {},
   "source": [
    "## The structure\n",
    "\n",
    "![alt text](https://media.geeksforgeeks.org/wp-content/uploads/20240726145525/Node-Structure-of-Singly-Linked-List.webp)"
   ]
  },
  {
   "cell_type": "markdown",
   "metadata": {},
   "source": [
    "## Implementation of the node structure\n",
    "To create the list, we start with the basic node. "
   ]
  },
  {
   "cell_type": "code",
   "execution_count": null,
   "metadata": {},
   "outputs": [],
   "source": [
    "class Node:\n",
    "    \"\"\"\n",
    "    Simple node with pointer.\n",
    "    \"\"\"\n",
    "    def __init__(self, value):\n",
    "        self.value = value\n",
    "        self.next = None"
   ]
  },
  {
   "cell_type": "code",
   "execution_count": 3,
   "metadata": {},
   "outputs": [],
   "source": [
    "node1 = Node(10)\n",
    "node2 = Node(19)\n",
    "node3 = Node(20)\n",
    "node4 = Node(90)"
   ]
  },
  {
   "cell_type": "code",
   "execution_count": 4,
   "metadata": {},
   "outputs": [],
   "source": [
    "node1.next = node2\n",
    "node2.next = node3\n",
    "node3.next = node4"
   ]
  },
  {
   "cell_type": "markdown",
   "metadata": {},
   "source": [
    "## Traversing the list\n",
    "\n",
    "Traversal is linear, starting from the first node, i.e., the head node or head."
   ]
  },
  {
   "cell_type": "code",
   "execution_count": 5,
   "metadata": {},
   "outputs": [
    {
     "name": "stdout",
     "output_type": "stream",
     "text": [
      "10\n",
      "19\n",
      "20\n",
      "90\n"
     ]
    }
   ],
   "source": [
    "# Print out your list of nodes.\n",
    "current = node1\n",
    "while current:\n",
    "    print(current.value)\n",
    "    current = current.next"
   ]
  },
  {
   "cell_type": "markdown",
   "metadata": {},
   "source": [
    "<b>Now make a class to handle the nodes/node class.</b><br>"
   ]
  },
  {
   "cell_type": "code",
   "execution_count": null,
   "metadata": {},
   "outputs": [],
   "source": [
    "class SinglyLinkedList: # Nodes and lists are separate so we want to create a list class to hold the nodes.\n",
    "    def __init__(self):\n",
    "        self.tail = None\n",
    "        self.head = None\n",
    "        \n",
    "        \n",
    "    def add2head(self, value):\n",
    "        pass\n",
    "  "
   ]
  },
  {
   "cell_type": "code",
   "execution_count": null,
   "metadata": {},
   "outputs": [],
   "source": [
    "words = SinglyLinkedList()\n",
    "\n",
    "words.add2head('egg')\n",
    "words.add2head('ham')\n",
    "words.add2head('spam')"
   ]
  },
  {
   "cell_type": "code",
   "execution_count": 8,
   "metadata": {
    "scrolled": true
   },
   "outputs": [
    {
     "name": "stdout",
     "output_type": "stream",
     "text": [
      "egg\n",
      "ham\n",
      "spam\n"
     ]
    }
   ],
   "source": [
    "# Print\n",
    "current = words.head\n",
    "while current:\n",
    "    print(current.value)\n",
    "    current = current.next  "
   ]
  },
  {
   "cell_type": "code",
   "execution_count": 11,
   "metadata": {},
   "outputs": [],
   "source": [
    "words = SinglyLinkedList()\n",
    "\n",
    "words.append('egg')\n",
    "words.append('ham')\n",
    "words.append('spam')"
   ]
  },
  {
   "cell_type": "markdown",
   "metadata": {},
   "source": [
    "<b>Deleting Nodes</b><br>\n",
    "https://goo.gl/xQNYm4"
   ]
  },
  {
   "cell_type": "code",
   "execution_count": null,
   "metadata": {},
   "outputs": [],
   "source": [
    "def delete(self, value):\n",
    "    \"\"\"\n",
    "    To delete a node between other nodes we must make the previous node point directly to the\n",
    "    successor of its next node.\n",
    "    \n",
    "    It should take O(n) to delete the node.\n",
    "        \"\"\"\n"
   ]
  },
  {
   "cell_type": "markdown",
   "metadata": {},
   "source": [
    "<b>Searching and clearing</b>"
   ]
  },
  {
   "cell_type": "code",
   "execution_count": null,
   "metadata": {},
   "outputs": [],
   "source": [
    "\n",
    "    \n",
    "def search(self, value):\n",
    "    \"\"\"\n",
    "    Search within all the nodes if the value you\n",
    "    supply is equal to the 'node'/node value.\n",
    "    \"\"\"\n",
    "    for node in self.iterate():\n",
    "        if value == node:\n",
    "            return True\n",
    "    return False\n",
    "\n",
    "\n",
    "def clear(self):\n",
    "    \"\"\"Easily clear the linked list by setting both the head and tail to None.\n",
    "    \"\"\"\n",
    "    self.tail = None\n",
    "    self.head = None\n",
    "    print('cleared')"
   ]
  },
  {
   "cell_type": "code",
   "execution_count": null,
   "metadata": {},
   "outputs": [],
   "source": [
    "words = SinglyLinkedList()\n",
    "\n"
   ]
  },
  {
   "cell_type": "code",
   "execution_count": null,
   "metadata": {},
   "outputs": [
    {
     "data": {
      "text/plain": [
       "True"
      ]
     },
     "execution_count": 22,
     "metadata": {},
     "output_type": "execute_result"
    }
   ],
   "source": []
  },
  {
   "cell_type": "code",
   "execution_count": 23,
   "metadata": {},
   "outputs": [
    {
     "name": "stdout",
     "output_type": "stream",
     "text": [
      "cleared\n"
     ]
    }
   ],
   "source": [
    "words.clear()"
   ]
  }
 ],
 "metadata": {
  "kernelspec": {
   "display_name": "Python 3",
   "language": "python",
   "name": "python3"
  },
  "language_info": {
   "codemirror_mode": {
    "name": "ipython",
    "version": 3
   },
   "file_extension": ".py",
   "mimetype": "text/x-python",
   "name": "python",
   "nbconvert_exporter": "python",
   "pygments_lexer": "ipython3",
   "version": "3.6.5"
  }
 },
 "nbformat": 4,
 "nbformat_minor": 2
}
